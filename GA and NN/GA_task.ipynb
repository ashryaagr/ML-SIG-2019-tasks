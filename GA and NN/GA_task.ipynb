{
 "cells": [
  {
   "cell_type": "markdown",
   "metadata": {
    "ein.tags": "worksheet-0",
    "slideshow": {
     "slide_type": "-"
    }
   },
   "source": [
    "# Genetic Algorithms Introductory Notebook:"
   ]
  },
  {
   "cell_type": "markdown",
   "metadata": {
    "ein.tags": "worksheet-0",
    "slideshow": {
     "slide_type": "-"
    }
   },
   "source": [
    "# Task 1: Extremizing A polynomial within an Interval\n",
    "### The Following Code Returns a Polynomial Function given a set of coefficients\n",
    "\n",
    "## Example:\n",
    "$\\left[ \\begin{array} ,1&2&3 \\end{array} \\right]\\rightarrow x^2 + 2x + 3 $\n"
   ]
  },
  {
   "cell_type": "code",
   "execution_count": 1,
   "metadata": {
    "autoscroll": false,
    "ein.hycell": false,
    "ein.tags": "worksheet-0",
    "slideshow": {
     "slide_type": "-"
    }
   },
   "outputs": [],
   "source": [
    "%matplotlib inline\n",
    "import numpy as np\n",
    "import matplotlib.pyplot as plt\n",
    "\n",
    "def polynomial_creator(*coeffs):\n",
    "    \"\"\" coefficients are in the form a_n, a_n_1, ... a_1, a_0\n",
    "    \"\"\"\n",
    "    def polynomial(x):\n",
    "        res = coeffs[0]\n",
    "        for i in range(1, len(coeffs)):\n",
    "            res = res * x + coeffs[i]\n",
    "        return res\n",
    "    return polynomial\n",
    "\n",
    "def polynomial_plotter(polynomial, domain, num_points=100, show_plot = True):\n",
    "    \"\"\" plots the polynomial in the given range with the give number of points\n",
    "    \"\"\"\n",
    "    start, stop = domain\n",
    "    points = np.linspace(start, stop,num_points)\n",
    "    func_values = polynomial(points)\n",
    "    plt.plot(points, func_values)\n",
    "    if show_plot:\n",
    "        plt.show()"
   ]
  },
  {
   "cell_type": "code",
   "execution_count": 2,
   "metadata": {
    "autoscroll": false,
    "ein.hycell": false,
    "ein.tags": "worksheet-0",
    "slideshow": {
     "slide_type": "-"
    }
   },
   "outputs": [
    {
     "data": {
      "image/png": "[encoded data removed]",
      "text/plain": [
       "<Figure size 432x288 with 1 Axes>"
      ]
     },
     "metadata": {
      "needs_background": "light"
     },
     "output_type": "display_data"
    }
   ],
   "source": [
    "my_polynomial = polynomial_creator(3,-10,-150,3)\n",
    "polynomial_plotter(my_polynomial, [1, 10])"
   ]
  },
  {
   "cell_type": "markdown",
   "metadata": {
    "ein.tags": "worksheet-0",
    "slideshow": {
     "slide_type": "-"
    }
   },
   "source": [
    "### In a similar manner fill in the code below to return a multivariate function\n",
    "\n",
    "## Example:\n",
    "$\\left[ \\begin{array} ,1&2&3 \\end{array} \\right] , \\left[ \\begin{array} ,18&14&6&3 \\end{array} \\right] , \\left[ \\begin{array} ,12&3 \\end{array} \\right] \\rightarrow f(x_1, x_2, x_3) = x_1^2 + 2x_1 + 3 + 18x_2^4 + 14x_2^3 + 6x_2^2 + 3x + 12x_3^2 + 3x $\n",
    "\n",
    "### NOTE : The value of constant is given as the value of the first variable\n",
    "Hint: You may use the polynomial creator function defined above\n",
    "\n",
    "\n",
    "#### Optional/Bonus : Find a method to plot it\n",
    "[How to plot multivariate functions](http://geog.uoregon.edu/bartlein/courses/geog495/lec05.html)\n"
   ]
  },
  {
   "cell_type": "code",
   "execution_count": 3,
   "metadata": {
    "autoscroll": false,
    "ein.hycell": false,
    "ein.tags": "worksheet-0",
    "slideshow": {
     "slide_type": "-"
    }
   },
   "outputs": [],
   "source": [
    "def multi_creator(*coefs):\n",
    "    def multivariate_function(x):\n",
    "        assert len(coefs)==len(x)\n",
    "        polynomial = polynomial_creator(*coefs[0])(x[0])\n",
    "        for i in range(1, len(x)):\n",
    "            polynomial = polynomial + x[i]*polynomial_creator(*coefs[i])(x[i])\n",
    "        return polynomial\n",
    "    return multivariate_function"
   ]
  },
  {
   "cell_type": "markdown",
   "metadata": {
    "ein.tags": "worksheet-0",
    "slideshow": {
     "slide_type": "-"
    }
   },
   "source": [
    "# Now lets extremize it! (Using genetic algoritms)\n",
    "Problem : Find the maxima of this function using genetic algos\n",
    "For this we require\n",
    "1. Fitness function\n",
    "2. An encoder function\n",
    "3. A mating function\n",
    "\n",
    "## Notations\n",
    "1. $n$ : The number of variables in the multivariate funtion\n",
    "2. $m$ : Size of the population\n",
    "3. $R_i$ : Range of the ith variable, as a tuple with max and min\n",
    "\n",
    "## Fitness function\n",
    "This is the function that our model will try to maximize. Since our goal is to maximize the multivariable polynomial, it will become our fitness function\n",
    "\n",
    "## Encoder function\n",
    "This functions takes in input genes and transforms its into meaningfull values of the variables.\n",
    "#### Genes\n",
    "For the purpose of this excercise, genes of the population are represented 2D numpy array of shape (n,m). **Our genes will only take values between -5 and 5**\n",
    "#### Example\n",
    "1. Polynomial $x_1 + x_2^2 + x_3 - x_3^3$\n",
    "2. Population size :m=5\n",
    "3. Ranges : (-3, 4), (-1, 2), (3, 9)\n",
    "##### Input (Gene Pool)\n",
    "$\\left[ \\begin{array}4.9&2.8&-3.4\\\\-3.5&1.4&4.5\\\\0.6&-3&1.8\\\\0.55&3.8&4.0\\\\-2& 2.6& 3 \\end{array}\\right]$\n",
    "##### Output (Fitness Values)\n",
    "$\\left[ \\begin{array} -52.413 & \\\\\n",
    "-650.906 & \\\\\n",
    "-346.734 & \\\\\n",
    "-580.729 & \\\\\n",
    "-466.014 & \\\\\n",
    "-26.000 & \\\\\n",
    "\\end{array}\\right]$\n",
    "\n",
    "## Mating Funtion\n",
    "This consists of :\n",
    "1. Mutation Function - Input = Gene : Output = Slightly modified gene\n",
    "2. Crossover function - Input = 2 genes : Output =  Crossovered genes\n",
    "\n",
    "Of each gene pool only the top few are selected and mated to get the gene pool of the next iteration.\n",
    "\n",
    "#### Note\n",
    "The following illustration will introduce you to the basics of Genetic algorithms. We insist you to write a mutation function and a crossover function on your own. \n",
    "[This](https://towardsdatascience.com/genetic-algorithm-implementation-in-python-5ab67bb124a6) might inspire you."
   ]
  },
  {
   "cell_type": "code",
   "execution_count": 10,
   "metadata": {
    "autoscroll": false,
    "ein.hycell": false,
    "ein.tags": "worksheet-0",
    "slideshow": {
     "slide_type": "-"
    }
   },
   "outputs": [
    {
     "name": "stdout",
     "output_type": "stream",
     "text": [
      "[[0.9603490587182328, 4.999950848244515, 0.3782448966075922], [0.9603490587182328, 4.999950848244515, 0.3782448966075922], [0.9603490587182328, 4.999950848244515, 0.3782448966075922], [0.9603490587182328, 4.999950848244515, 0.3782448966075922], [0.9603490587182328, 4.999950848244515, 0.3782448966075922], [0.9603490587182328, 4.999950848244515, 0.3782448966075922], [0.9603490587182328, 4.999950848244515, 0.3782448966075922], [0.9603490587182328, 4.999950848244515, 0.3782448966075922], [0.9603490587182328, 4.999950848244515, 0.3782448966075922], [0.9603490587182328, 4.999950848244515, 0.3782448966075922], [0.9603490587182328, 4.999950848244515, 0.3782448966075922], [0.9603490587182328, 4.999950848244515, 0.3782448966075922], [0.9603490587182328, 4.999950848244515, 0.3782448966075922], [0.9603490587182328, 4.999950848244515, 0.3782448966075922], [0.9603490587182328, 4.999950848244515, 0.3782448966075922], [0.9603490587182328, 4.999950848244515, 0.3782448966075922], [0.9603490587182328, 4.999950848244515, 0.3782448966075922], [0.9603490587182328, 4.999950848244515, 0.3782448966075922], [0.9603490587182328, 4.999950848244515, 0.3782448966075922], [0.9603490587182328, 4.999950848244515, 0.3782448966075922]]\n"
     ]
    }
   ],
   "source": [
    "import random\n",
    "\n",
    "lower_bound_x, upper_bound_x, retain_fraction, selection_bar, mutation_chances, n, size , ngen = (-5, 5, 0.25, 0.25, 0.1, 3, 20 ,1000000)\n",
    "# retain_fraction indicates the fraction of people that will be retained in next generation and \n",
    "# selection_bar indicates the fraction of people that will be used for crossover\n",
    "# mutation_chances indicates the farction of peope that will be mutated\n",
    "\n",
    "polynomial = multi_creator([-1, 2, 3],[18, 14, 6, 3],[-12, 3]) # Different from the one in example\n",
    "\n",
    "def individual(n=3): # n is the number of variables default:3\n",
    "    return [ random.uniform(lower_bound_x, upper_bound_x) for i in range(n)]\n",
    "\n",
    "def initial_population(n, size=5): # n is number of variables. Default initial population size is taken as 5\n",
    "    return [ individual(n) for i in range(size)]\n",
    "\n",
    "def selection(population):\n",
    "    return sorted(population, key= lambda indiv: -polynomial(indiv))[:int(retain_fraction*len(population))] #sorted in descending order\n",
    "    \n",
    "def mutate(population):\n",
    "    for i in range(int(len(population)*mutation_chances)):\n",
    "        population[random.randint(0, len(population)-1)] = individual(n)\n",
    "    return population\n",
    "\n",
    "def crossover(individual1, individual2):\n",
    "    new_individual = [0 for i in range(len(individual1))]\n",
    "    for a in range(len(new_individual)):\n",
    "        new_individual[a] = individual1[a] if random.choice([0,1]) else individual2[a]\n",
    "    return new_individual\n",
    "\n",
    "def crossover_population(population):\n",
    "    selected_population = sorted(population, key= lambda indiv: -polynomial(indiv))[:int(selection_bar*len(population))]\n",
    "    len_selected_population = len(selected_population)\n",
    "    new_population = []\n",
    "    for i in range(len(population) - int(retain_fraction*len(population))):\n",
    "        a = random.randint(0, len_selected_population-1)\n",
    "        b = a\n",
    "        while(b==a):\n",
    "            b = random.randint(0, len_selected_population-1)\n",
    "        new_population.append(crossover(selected_population[a], selected_population[b]))\n",
    "    return selection(population) + new_population\n",
    "\n",
    "population = initial_population(n, size)\n",
    "for i in range(ngen):\n",
    "    population = mutate(population)\n",
    "    population = crossover_population(population)\n",
    "print(population)"
   ]
  },
  {
   "cell_type": "code",
   "execution_count": null,
   "metadata": {},
   "outputs": [],
   "source": []
  }
 ],
 "metadata": {
  "kernelspec": {
   "display_name": "Python 3",
   "language": "python",
   "name": "python3"
  },
  "language_info": {
   "codemirror_mode": {
    "name": "ipython",
    "version": 3
   },
   "file_extension": ".py",
   "mimetype": "text/x-python",
   "name": "python",
   "nbconvert_exporter": "python",
   "pygments_lexer": "ipython3",
   "version": "3.5.2"
  },
  "name": "Untitled.ipynb",
  "varInspector": {
   "cols": {
    "lenName": 16,
    "lenType": 16,
    "lenVar": 40
   },
   "kernels_config": {
    "python": {
     "delete_cmd_postfix": "",
     "delete_cmd_prefix": "del ",
     "library": "var_list.py",
     "varRefreshCmd": "print(var_dic_list())"
    },
    "r": {
     "delete_cmd_postfix": ") ",
     "delete_cmd_prefix": "rm(",
     "library": "var_list.r",
     "varRefreshCmd": "cat(var_dic_list()) "
    }
   },
   "types_to_exclude": [
    "module",
    "function",
    "builtin_function_or_method",
    "instance",
    "_Feature"
   ],
   "window_display": false
  }
 },
 "nbformat": 4,
 "nbformat_minor": 2
}
