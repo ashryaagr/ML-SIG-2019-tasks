{
 "cells": [
  {
   "cell_type": "markdown",
   "metadata": {},
   "source": [
    "# Question 1:\n",
    "### Make a 9x9 numpy array filled with the repeating pattern 1,2,3,1,2,3,..."
   ]
  },
  {
   "cell_type": "code",
   "execution_count": 11,
   "metadata": {},
   "outputs": [
    {
     "name": "stdout",
     "output_type": "stream",
     "text": [
      "[[1. 2. 3. 1. 2. 3. 1. 2. 3.]\n",
      " [1. 2. 3. 1. 2. 3. 1. 2. 3.]\n",
      " [1. 2. 3. 1. 2. 3. 1. 2. 3.]\n",
      " [1. 2. 3. 1. 2. 3. 1. 2. 3.]\n",
      " [1. 2. 3. 1. 2. 3. 1. 2. 3.]\n",
      " [1. 2. 3. 1. 2. 3. 1. 2. 3.]\n",
      " [1. 2. 3. 1. 2. 3. 1. 2. 3.]\n",
      " [1. 2. 3. 1. 2. 3. 1. 2. 3.]\n",
      " [1. 2. 3. 1. 2. 3. 1. 2. 3.]]\n"
     ]
    }
   ],
   "source": [
    "import numpy as np\n",
    "x = np.ones((9,9))\n",
    "for i in range(9):\n",
    "    for j in range(9):\n",
    "        x[i][j] += j%3\n",
    "print(x)"
   ]
  },
  {
   "cell_type": "markdown",
   "metadata": {},
   "source": [
    "# Question 2:\n",
    "### Write a function that performs min-max scaling on a numpy array across rows \n",
    "\n",
    "## Example:\n",
    "\n",
    "### Input \n",
    "$\\begin{bmatrix}1& 2& 3\\\\10 & 15 & 20 \\\\ -5 & -11&  9\\end{bmatrix}$\n",
    "    \n",
    "### Output\n",
    "$\\begin{bmatrix} 0 & 0.5 & 1 \\\\ 0 & 0.5 & 1 \\\\ 0.3 & 0 & 1 \\end{bmatrix}$\n"
   ]
  },
  {
   "cell_type": "code",
   "execution_count": 23,
   "metadata": {},
   "outputs": [
    {
     "name": "stdout",
     "output_type": "stream",
     "text": [
      "[[0.  0.5 1. ]\n",
      " [0.  0.5 1. ]\n",
      " [0.3 0.  1. ]]\n"
     ]
    }
   ],
   "source": [
    "import numpy as np\n",
    "def scaling(x):\n",
    "    x = np.array(x, dtype=np.float64)\n",
    "    for i in range(x.shape[0]):\n",
    "        minimum = min(x[i])\n",
    "        maximum = max(x[i])\n",
    "        for j in range(x.shape[1]):\n",
    "            x[i][j] = (x[i][j]-minimum)/(maximum-minimum)\n",
    "    return x\n",
    "x = np.array([[1, 2, 3], [10, 15, 20], [-5, -11, 9]])\n",
    "print(scaling(x))"
   ]
  },
  {
   "cell_type": "code",
   "execution_count": 13,
   "metadata": {},
   "outputs": [
    {
     "name": "stdout",
     "output_type": "stream",
     "text": [
      "[[0.  0.5 1. ]\n",
      " [0.  0.5 1. ]\n",
      " [0.3 0.  1. ]]\n"
     ]
    }
   ],
   "source": [
    "import numpy as np\n",
    "def scaling_without_for(x):\n",
    "    x = np.array(x, dtype=np.float64)\n",
    "    minimum = np.min(x, axis=1)\n",
    "    maximum = np.max(x, axis=1)\n",
    "    x = np.subtract(x,np.tile(minimum, (x.shape[1], 1)).T)\n",
    "    div = np.tile(maximum-minimum, (x.shape[1],1)).T\n",
    "    return np.divide(x, div)\n",
    "x = np.array([[1, 2, 3], [10, 15, 20], [-5, -11, 9]])\n",
    "print(scaling_without_for(x))"
   ]
  },
  {
   "cell_type": "markdown",
   "metadata": {},
   "source": [
    "# Question 3:\n",
    "### Find index of the element of the array which is closest to a given value\n",
    "\n",
    "## Example:\n",
    "\n",
    "### Input \n",
    "$\\begin{bmatrix}4.5& -5& 83\\\\5.11 & 5.25 & 20 \\\\ -5 & 42&  69.99\\end{bmatrix}$\n",
    "    \n",
    "val = 5\n",
    "\n",
    "### Output\n",
    "\n",
    "index = (1, 0)\n"
   ]
  },
  {
   "cell_type": "code",
   "execution_count": 25,
   "metadata": {},
   "outputs": [
    {
     "name": "stdout",
     "output_type": "stream",
     "text": [
      "(1, 0)\n"
     ]
    }
   ],
   "source": [
    "x = [[4.5, -5, 83], [5.11, 5.25, 20], [-5, 42, 69.99]]\n",
    "val = 5\n",
    "import numpy as np\n",
    "x = np.array(x)\n",
    "closest = (0,0)\n",
    "diff = abs(x[0][0]-val)\n",
    "for i in range(x.shape[0]):\n",
    "    for j in range(x.shape[1]):\n",
    "        if (abs(x[i][j]-val)<diff) :\n",
    "            diff = abs(x[i][j]-val)\n",
    "            closest = (i,j)\n",
    "print(closest)"
   ]
  },
  {
   "cell_type": "code",
   "execution_count": 42,
   "metadata": {},
   "outputs": [
    {
     "name": "stdout",
     "output_type": "stream",
     "text": [
      "(array([1]), array([0]))\n"
     ]
    }
   ],
   "source": [
    "x = [[4.5, -5, 83], [5.11, 5.25, 20], [-5, 42, 69.99]]\n",
    "val = 5\n",
    "import numpy as np\n",
    "x = np.array(x)\n",
    "val_1 = np.full((x.shape[0], x.shape[1]), val)\n",
    "matrix = abs(np.subtract(x, val_1))\n",
    "min_dis = min(np.min(matrix, axis=1))\n",
    "print(np.where(matrix==min_dis))"
   ]
  },
  {
   "cell_type": "markdown",
   "metadata": {},
   "source": [
    "# Question 4:\n",
    "### Implement A sliding window average of a given array\n",
    "\n",
    "Example: https://www.youtube.com/watch?v=ZoaEDbivmOE"
   ]
  },
  {
   "cell_type": "code",
   "execution_count": 22,
   "metadata": {},
   "outputs": [
    {
     "name": "stdout",
     "output_type": "stream",
     "text": [
      "[[7 0 3 1 3 1 5 5 8 1]\n",
      " [3 7 7 7 1 1 5 8 5 2]\n",
      " [6 5 1 7 4 4 7 0 0 5]\n",
      " [0 1 5 9 3 6 3 9 8 3]\n",
      " [4 7 3 8 2 5 3 7 1 8]\n",
      " [4 3 0 1 9 4 1 5 0 8]\n",
      " [3 2 1 2 2 4 3 5 8 5]\n",
      " [1 1 3 6 7 1 5 6 5 4]\n",
      " [3 6 0 4 5 3 4 3 0 2]\n",
      " [1 4 2 9 2 8 9 9 3 0]]\n",
      "[[4.33333333 4.22222222 3.77777778 3.22222222 3.44444444 4.\n",
      "  4.77777778 3.77777778]\n",
      " [3.88888889 5.44444444 4.88888889 4.66666667 3.77777778 4.77777778\n",
      "  5.         4.44444444]\n",
      " [3.55555556 5.11111111 4.66666667 5.33333333 4.11111111 4.88888889\n",
      "  4.22222222 4.55555556]\n",
      " [3.         4.11111111 4.44444444 5.22222222 4.         4.77777778\n",
      "  4.11111111 5.44444444]\n",
      " [3.         3.         3.11111111 4.11111111 3.66666667 4.11111111\n",
      "  3.66666667 5.22222222]\n",
      " [2.         2.11111111 3.44444444 4.         4.         3.77777778\n",
      "  4.22222222 5.11111111]\n",
      " [2.22222222 2.77777778 3.33333333 3.77777778 3.77777778 3.77777778\n",
      "  4.33333333 4.22222222]\n",
      " [2.33333333 3.88888889 4.22222222 5.         4.88888889 5.33333333\n",
      "  4.88888889 3.55555556]]\n"
     ]
    }
   ],
   "source": [
    "def sliding_average(x): # assuming that a numpy array has been passed\n",
    "    y = np.ones((x.shape[0]-2, x.shape[1]-2))\n",
    "    for i in range(1, x.shape[0]-1):\n",
    "        for j in range(1, x.shape[1]-1):\n",
    "            L = x[i-1:i+2, j-1:j+2]\n",
    "            y[i-1][j-1] = np.sum(L)/9.0\n",
    "    return y\n",
    "x = np.random.randint(10, size=(10,10))\n",
    "print(x)\n",
    "print(sliding_average(x))"
   ]
  },
  {
   "cell_type": "markdown",
   "metadata": {},
   "source": [
    "# (Optional) Question 5\n",
    "### Implement John Conway's Game of Life\n",
    "\n",
    "You can read about the rules of the game and play it at: https://bitstorm.org/gameoflife/"
   ]
  },
  {
   "cell_type": "code",
   "execution_count": 32,
   "metadata": {},
   "outputs": [
    {
     "name": "stdout",
     "output_type": "stream",
     "text": [
      "The original matrix is : \n",
      "\n",
      "[[1 1 1 0 0 1 1 0 0 1 1 1 0 0 1 0 0 1 0 1]\n",
      " [1 1 0 0 1 1 1 1 1 1 1 1 0 0 0 0 1 0 1 1]\n",
      " [0 0 0 1 0 1 1 0 1 1 0 0 0 1 0 1 0 1 1 0]\n",
      " [1 0 0 1 0 0 0 0 0 0 1 0 0 1 1 1 0 1 0 1]\n",
      " [1 1 1 0 1 0 0 0 1 1 1 1 1 1 1 1 1 0 1 0]\n",
      " [0 0 0 1 1 1 1 1 0 0 1 1 0 0 1 1 1 1 0 0]\n",
      " [0 1 1 1 0 1 1 1 0 0 1 1 1 1 1 0 0 0 0 0]\n",
      " [1 1 1 0 0 0 0 1 1 1 0 1 0 0 0 1 0 0 1 1]\n",
      " [1 0 1 0 1 1 0 1 0 0 0 1 1 0 0 1 0 1 0 1]\n",
      " [0 0 1 1 1 0 0 1 0 0 0 0 1 0 1 1 1 0 0 1]\n",
      " [0 0 0 1 1 0 1 1 1 1 1 1 1 1 0 1 0 0 0 1]\n",
      " [1 1 0 0 1 0 1 1 0 0 1 0 0 0 0 1 0 1 1 1]\n",
      " [1 1 0 1 0 1 0 0 0 0 0 0 1 0 0 1 1 1 0 1]\n",
      " [1 1 1 0 0 1 1 1 1 0 0 1 1 0 1 1 1 0 0 1]\n",
      " [0 1 0 1 0 1 1 0 0 0 1 0 0 0 0 1 1 1 0 1]\n",
      " [1 1 1 1 0 0 1 0 0 1 1 1 1 0 0 0 0 0 1 0]\n",
      " [0 0 1 1 1 1 0 0 0 1 1 0 1 0 0 1 0 1 0 0]\n",
      " [1 0 0 0 0 1 0 1 1 1 0 1 0 1 0 0 1 1 1 1]\n",
      " [0 1 1 0 1 0 1 1 1 1 1 0 1 0 0 1 0 0 1 0]\n",
      " [1 1 0 0 1 1 0 0 1 1 1 0 1 1 0 1 1 0 0 1]]\n",
      "The final matrix that does not change on further operations is : \n",
      "\n",
      "[[0 0 1 1 0 0 0 0 0 0 0 0 1 1 0 1 0 0 0 0]\n",
      " [1 1 0 0 0 0 0 0 0 0 1 1 0 1 0 1 0 1 0 1]\n",
      " [0 1 0 1 1 1 1 0 1 0 1 0 0 0 0 0 0 0 0 1]\n",
      " [0 0 0 0 0 0 0 1 0 0 0 0 0 0 0 0 1 0 1 0]\n",
      " [0 1 1 0 0 1 0 0 0 1 0 0 1 0 0 0 0 0 1 0]\n",
      " [0 0 0 0 0 0 0 1 1 0 0 0 0 0 0 1 1 1 0 0]\n",
      " [0 0 0 1 0 1 0 0 0 0 0 1 0 1 0 1 0 1 0 1]\n",
      " [0 0 1 0 0 1 0 1 0 0 1 0 0 0 0 1 0 1 0 0]\n",
      " [1 0 0 0 0 1 0 1 1 0 0 0 1 1 0 0 0 1 0 0]\n",
      " [0 0 1 0 0 1 0 0 0 0 1 0 0 0 0 1 0 0 1 0]\n",
      " [0 1 0 0 1 0 0 0 1 0 0 0 1 1 0 1 0 1 0 0]\n",
      " [0 0 1 0 0 1 0 1 0 0 0 0 1 0 0 0 0 0 0 1]\n",
      " [0 0 0 1 0 0 0 0 1 0 0 0 0 1 0 0 0 1 0 0]\n",
      " [0 1 0 0 0 0 0 0 1 1 1 0 1 1 0 0 0 1 0 0]\n",
      " [0 0 0 1 1 0 1 1 0 0 0 0 0 1 1 1 0 1 0 1]\n",
      " [0 1 0 0 0 0 0 0 1 0 0 0 1 0 0 1 0 1 0 0]\n",
      " [1 0 1 1 0 1 1 0 0 0 1 0 0 0 1 0 0 0 0 1]\n",
      " [1 0 0 0 0 0 0 0 0 0 0 0 0 1 1 0 1 0 0 0]\n",
      " [0 0 1 1 0 1 0 1 0 0 1 0 0 0 0 0 1 0 1 0]\n",
      " [0 0 0 0 0 0 1 1 0 0 1 1 0 1 0 0 1 0 0 0]]\n"
     ]
    }
   ],
   "source": [
    "import numpy as np\n",
    "A = np.random.randint(2, size=(22,22)) # padding of 1 on all 4 sides\n",
    "print(\"The original matrix is : \\n\")\n",
    "print(A[1:21, 1:21])\n",
    "while (True):\n",
    "#     x, y = input().split()\n",
    "#     x, y = int(x), int(y)\n",
    "#     A[x][y] = not A[x][y]\n",
    "    B = A\n",
    "    for i in range(1, 21):\n",
    "        for j in range(1, 21):\n",
    "            count = np.sum(A[i-1:i+2, j-1:j+2]) # I assume that by neighnours we mean populated spaces\n",
    "            if A[i][j]:\n",
    "                if count < 2 or count >3 :\n",
    "                    A[i][j] = 0\n",
    "            elif count ==3 :\n",
    "                A[i][j] = 1\n",
    "    if np.sum(B==A)== 22*22:\n",
    "        break\n",
    "print(\"The final matrix that does not change on further operations is : \\n\")\n",
    "print(A[1:21, 1:21])"
   ]
  },
  {
   "cell_type": "markdown",
   "metadata": {},
   "source": [
    "# Final Task \n",
    "## Implement edge detection using a Sobel Filter\n",
    "Read more about Sobel filter : [Wikipedia article](https://en.wikipedia.org/wiki/Sobel_operator \"Sobel Operator\")\n",
    "Some sample code to display the results is already given\n",
    "\n"
   ]
  },
  {
   "cell_type": "code",
   "execution_count": 21,
   "metadata": {},
   "outputs": [
    {
     "data": {
      "image/png": "[encoded data removed]",
      "text/plain": [
       "<Figure size 432x288 with 4 Axes>"
      ]
     },
     "metadata": {
      "needs_background": "light"
     },
     "output_type": "display_data"
    }
   ],
   "source": [
    "%matplotlib inline\n",
    "# Note: DO NOT USE THE SCIPY INBUILT FUNCTION. CONVOLVE USING FILTERS AND NORMALIZE\n",
    "import scipy\n",
    "import imageio\n",
    "import matplotlib.pyplot as plt\n",
    "import numpy as np\n",
    "\n",
    "im = imageio.imread('./fig01.jpg').astype(\"int32\")\n",
    "grey_img = im #convert image to greyscale \n",
    "\n",
    "grey_shape = list(im.shape)\n",
    "grey_shape[-1] = 1\n",
    "grey_shape = tuple(grey_shape)\n",
    "# print(grey_shape)\n",
    "ax1 = plt.subplot(323)\n",
    "ax2 = plt.subplot(322)\n",
    "ax3 = plt.subplot(324)\n",
    "ax4 = plt.subplot(326)\n",
    "\n",
    "## Initializing the sobel filter\n",
    "filterx = np.array([[3, 0 ,-3],\n",
    "                      [10 , 0 , -10],\n",
    "                      [3, 0 ,-3]])\n",
    "filtery = filterx.T\n",
    "\n",
    "## Fill the code below\n",
    "\n",
    "dx = np.zeros((grey_img.shape[0]-2, grey_img.shape[1]-2))# Derivative of image in X direction\n",
    "dy = np.zeros((grey_img.shape[0]-2, grey_img.shape[1]-2))# Derivative of image in Y direction\n",
    "for i in range(grey_img.shape[0]-2):\n",
    "    for j in range(grey_img.shape[1]-2):\n",
    "        dx[i][j] = np.sum(filterx*grey_img[i:i+3, j:j+3])\n",
    "        dy[i][j] = np.sum(filtery*grey_img[i:i+3, j:j+3])\n",
    "mag =  np.sqrt(np.multiply(dx,dx)+ np.multiply(dy,dy))# Net magnitude of derivative\n",
    "normalized = scaling_without_for(mag) # Normalize using max value\n",
    "\n",
    "## End\n",
    "## Plot it\n",
    "ax1.imshow(im)\n",
    "ax2.imshow(dx)\n",
    "ax3.imshow(dy)\n",
    "ax4.imshow(normalized)\n",
    "plt.show()"
   ]
  },
  {
   "cell_type": "markdown",
   "metadata": {},
   "source": [
    "# All Done?\n",
    "## Checkout these advanced guides\n",
    "\n",
    "### [Advanced Numpy](https://scipy-lectures.org/advanced/advanced_numpy/index.html)\n",
    "### [Image Processing](https://scipy-lectures.org/advanced/image_processing/index.html)"
   ]
  },
  {
   "cell_type": "code",
   "execution_count": null,
   "metadata": {},
   "outputs": [],
   "source": []
  }
 ],
 "metadata": {
  "kernelspec": {
   "display_name": "Python 3",
   "language": "python",
   "name": "python3"
  },
  "language_info": {
   "codemirror_mode": {
    "name": "ipython",
    "version": 3
   },
   "file_extension": ".py",
   "mimetype": "text/x-python",
   "name": "python",
   "nbconvert_exporter": "python",
   "pygments_lexer": "ipython3",
   "version": "3.7.0"
  }
 },
 "nbformat": 4,
 "nbformat_minor": 2
}
